{
 "cells": [
  {
   "cell_type": "markdown",
   "metadata": {
    "id": "jRs4kWNFnF2o"
   },
   "source": [
    "# Importing the Libraries"
   ]
  },
  {
   "cell_type": "code",
   "execution_count": 65,
   "metadata": {
    "id": "ouCPQ0M3Rn1w"
   },
   "outputs": [],
   "source": [
    "import pandas as pd\n",
    "from sklearn.model_selection import train_test_split,GridSearchCV, RandomizedSearchCV\n",
    "from sklearn.linear_model import LogisticRegression\n",
    "from sklearn.preprocessing import MinMaxScaler\n",
    "from sklearn.impute import SimpleImputer\n",
    "from sklearn.metrics import confusion_matrix,accuracy_score,classification_report\n",
    "import seaborn as sns\n",
    "import matplotlib.pyplot as plt\n",
    "from sklearn.metrics import roc_curve,auc\n",
    "import pickle\n",
    "from sklearn.ensemble import ExtraTreesRegressor"
   ]
  },
  {
   "cell_type": "markdown",
   "metadata": {
    "id": "j1oV5BcKnLkF"
   },
   "source": [
    "# Loading the Data"
   ]
  },
  {
   "cell_type": "code",
   "execution_count": 66,
   "metadata": {
    "colab": {
     "base_uri": "https://localhost:8080/",
     "height": 204
    },
    "id": "YstdenaLnVa9",
    "outputId": "e29664ab-4b4c-4dd0-efe3-15679c06697b"
   },
   "outputs": [
    {
     "data": {
      "text/html": [
       "<div>\n",
       "<style scoped>\n",
       "    .dataframe tbody tr th:only-of-type {\n",
       "        vertical-align: middle;\n",
       "    }\n",
       "\n",
       "    .dataframe tbody tr th {\n",
       "        vertical-align: top;\n",
       "    }\n",
       "\n",
       "    .dataframe thead th {\n",
       "        text-align: right;\n",
       "    }\n",
       "</style>\n",
       "<table border=\"1\" class=\"dataframe\">\n",
       "  <thead>\n",
       "    <tr style=\"text-align: right;\">\n",
       "      <th></th>\n",
       "      <th>Close/Last</th>\n",
       "      <th>Volume</th>\n",
       "      <th>Open</th>\n",
       "      <th>High</th>\n",
       "      <th>Low</th>\n",
       "      <th>New Closing Price</th>\n",
       "      <th>Day</th>\n",
       "      <th>Month</th>\n",
       "      <th>Year</th>\n",
       "    </tr>\n",
       "  </thead>\n",
       "  <tbody>\n",
       "    <tr>\n",
       "      <th>0</th>\n",
       "      <td>36.29</td>\n",
       "      <td>32739565</td>\n",
       "      <td>37.60</td>\n",
       "      <td>37.65</td>\n",
       "      <td>35.638</td>\n",
       "      <td>0.00</td>\n",
       "      <td>14</td>\n",
       "      <td>11</td>\n",
       "      <td>2016</td>\n",
       "    </tr>\n",
       "    <tr>\n",
       "      <th>1</th>\n",
       "      <td>10.86</td>\n",
       "      <td>48842780</td>\n",
       "      <td>10.68</td>\n",
       "      <td>10.93</td>\n",
       "      <td>10.640</td>\n",
       "      <td>0.31</td>\n",
       "      <td>15</td>\n",
       "      <td>12</td>\n",
       "      <td>2016</td>\n",
       "    </tr>\n",
       "    <tr>\n",
       "      <th>2</th>\n",
       "      <td>10.55</td>\n",
       "      <td>46878230</td>\n",
       "      <td>10.43</td>\n",
       "      <td>10.74</td>\n",
       "      <td>10.270</td>\n",
       "      <td>0.01</td>\n",
       "      <td>14</td>\n",
       "      <td>12</td>\n",
       "      <td>2016</td>\n",
       "    </tr>\n",
       "    <tr>\n",
       "      <th>3</th>\n",
       "      <td>10.54</td>\n",
       "      <td>46660430</td>\n",
       "      <td>10.75</td>\n",
       "      <td>10.80</td>\n",
       "      <td>10.400</td>\n",
       "      <td>-0.14</td>\n",
       "      <td>13</td>\n",
       "      <td>12</td>\n",
       "      <td>2016</td>\n",
       "    </tr>\n",
       "    <tr>\n",
       "      <th>4</th>\n",
       "      <td>10.68</td>\n",
       "      <td>63255660</td>\n",
       "      <td>10.40</td>\n",
       "      <td>10.93</td>\n",
       "      <td>10.380</td>\n",
       "      <td>0.34</td>\n",
       "      <td>12</td>\n",
       "      <td>12</td>\n",
       "      <td>2016</td>\n",
       "    </tr>\n",
       "  </tbody>\n",
       "</table>\n",
       "</div>"
      ],
      "text/plain": [
       "   Close/Last    Volume   Open   High  ...  New Closing Price  Day  Month  Year\n",
       "0       36.29  32739565  37.60  37.65  ...               0.00   14     11  2016\n",
       "1       10.86  48842780  10.68  10.93  ...               0.31   15     12  2016\n",
       "2       10.55  46878230  10.43  10.74  ...               0.01   14     12  2016\n",
       "3       10.54  46660430  10.75  10.80  ...              -0.14   13     12  2016\n",
       "4       10.68  63255660  10.40  10.93  ...               0.34   12     12  2016\n",
       "\n",
       "[5 rows x 9 columns]"
      ]
     },
     "execution_count": 66,
     "metadata": {},
     "output_type": "execute_result"
    }
   ],
   "source": [
    "df = pd.read_csv(\"stock_data (1).csv\") #\n",
    "df.head()"
   ]
  },
  {
   "cell_type": "markdown",
   "metadata": {
    "id": "nIbE7KG23FPD"
   },
   "source": [
    "#Removing the Date Column"
   ]
  },
  {
   "cell_type": "code",
   "execution_count": 67,
   "metadata": {
    "id": "qHSnzafl3H22"
   },
   "outputs": [],
   "source": [
    "df.drop([\"Day\",\"Month\",\"Year\"],axis = 1, inplace = True)"
   ]
  },
  {
   "cell_type": "code",
   "execution_count": 68,
   "metadata": {
    "colab": {
     "base_uri": "https://localhost:8080/",
     "height": 86
    },
    "id": "jNtI4muid1r_",
    "outputId": "3a881756-82fa-44cd-9a1f-bb798895fa1f"
   },
   "outputs": [
    {
     "data": {
      "application/vnd.google.colaboratory.intrinsic+json": {
       "type": "string"
      },
      "text/plain": [
       "'df[\"Date\"] = pd.to_datetime(df[\"Date\"])\\ndf.sort_values(by = \"Date\",ignore_index= True,inplace= True)\\ndf[\"Close/Last\"] = df[\"Close/Last\"].str.replace(\"$\",\"\").astype(float) #removing the $ sign and converting the column into float dtype\\nclose_list = list(df[\"Close/Last\"])\\nnew_close_list = []\\nfor i in range(len(close_list)):\\n  if i ==0:\\n    new_close_list.append(0)\\n  else:\\n    new_close_list.append(close_list[i]-close_list[i-1])\\ndf[\"New Closing Price\"] = new_close_list\\ndf.head()\\n\\nI used this code to add New Closing Price Columns in EDA Notebook\\n'"
      ]
     },
     "execution_count": 68,
     "metadata": {},
     "output_type": "execute_result"
    }
   ],
   "source": [
    "\"\"\"df[\"Date\"] = pd.to_datetime(df[\"Date\"])\n",
    "df.sort_values(by = \"Date\",ignore_index= True,inplace= True)\n",
    "df[\"Close/Last\"] = df[\"Close/Last\"].str.replace(\"$\",\"\").astype(float) #removing the $ sign and converting the column into float dtype\n",
    "close_list = list(df[\"Close/Last\"])\n",
    "new_close_list = []\n",
    "for i in range(len(close_list)):\n",
    "  if i ==0:\n",
    "    new_close_list.append(0)\n",
    "  else:\n",
    "    new_close_list.append(close_list[i]-close_list[i-1])\n",
    "df[\"New Closing Price\"] = new_close_list\n",
    "df.head()\n",
    "\n",
    "I used this code to add New Closing Price Columns in EDA Notebook\n",
    "\"\"\"\n"
   ]
  },
  {
   "cell_type": "markdown",
   "metadata": {
    "id": "rBuO1ACWnPdA"
   },
   "source": [
    "# Info about the data"
   ]
  },
  {
   "cell_type": "code",
   "execution_count": 69,
   "metadata": {
    "colab": {
     "base_uri": "https://localhost:8080/"
    },
    "id": "fB64NoBLR1DI",
    "outputId": "a546c721-27fb-48de-e348-d0aa797d2539"
   },
   "outputs": [
    {
     "data": {
      "text/plain": [
       "(2653, 6)"
      ]
     },
     "execution_count": 69,
     "metadata": {},
     "output_type": "execute_result"
    }
   ],
   "source": [
    "df.shape"
   ]
  },
  {
   "cell_type": "code",
   "execution_count": 70,
   "metadata": {
    "colab": {
     "base_uri": "https://localhost:8080/"
    },
    "id": "aAzHPVtMnX8S",
    "outputId": "26d41634-ab94-42fb-b93f-b12c02f67816"
   },
   "outputs": [
    {
     "data": {
      "text/plain": [
       "Close/Last           0\n",
       "Volume               0\n",
       "Open                 0\n",
       "High                 0\n",
       "Low                  0\n",
       "New Closing Price    0\n",
       "dtype: int64"
      ]
     },
     "execution_count": 70,
     "metadata": {},
     "output_type": "execute_result"
    }
   ],
   "source": [
    "df.isnull().sum()"
   ]
  },
  {
   "cell_type": "code",
   "execution_count": 71,
   "metadata": {
    "colab": {
     "base_uri": "https://localhost:8080/"
    },
    "id": "P4ouwYUVnYHt",
    "outputId": "800f40d6-2597-4dee-d1ed-cb78bc5eb98b"
   },
   "outputs": [
    {
     "name": "stdout",
     "output_type": "stream",
     "text": [
      "<class 'pandas.core.frame.DataFrame'>\n",
      "RangeIndex: 2653 entries, 0 to 2652\n",
      "Data columns (total 6 columns):\n",
      " #   Column             Non-Null Count  Dtype  \n",
      "---  ------             --------------  -----  \n",
      " 0   Close/Last         2653 non-null   float64\n",
      " 1   Volume             2653 non-null   int64  \n",
      " 2   Open               2653 non-null   float64\n",
      " 3   High               2653 non-null   float64\n",
      " 4   Low                2653 non-null   float64\n",
      " 5   New Closing Price  2653 non-null   float64\n",
      "dtypes: float64(5), int64(1)\n",
      "memory usage: 124.5 KB\n"
     ]
    }
   ],
   "source": [
    "df.info()"
   ]
  },
  {
   "cell_type": "code",
   "execution_count": 72,
   "metadata": {
    "colab": {
     "base_uri": "https://localhost:8080/",
     "height": 297
    },
    "id": "pO-gtYfWnnQw",
    "outputId": "f07eae91-c537-4bf9-bfd1-0ff9b5e6d9f1"
   },
   "outputs": [
    {
     "data": {
      "text/html": [
       "<div>\n",
       "<style scoped>\n",
       "    .dataframe tbody tr th:only-of-type {\n",
       "        vertical-align: middle;\n",
       "    }\n",
       "\n",
       "    .dataframe tbody tr th {\n",
       "        vertical-align: top;\n",
       "    }\n",
       "\n",
       "    .dataframe thead th {\n",
       "        text-align: right;\n",
       "    }\n",
       "</style>\n",
       "<table border=\"1\" class=\"dataframe\">\n",
       "  <thead>\n",
       "    <tr style=\"text-align: right;\">\n",
       "      <th></th>\n",
       "      <th>Close/Last</th>\n",
       "      <th>Volume</th>\n",
       "      <th>Open</th>\n",
       "      <th>High</th>\n",
       "      <th>Low</th>\n",
       "      <th>New Closing Price</th>\n",
       "    </tr>\n",
       "  </thead>\n",
       "  <tbody>\n",
       "    <tr>\n",
       "      <th>count</th>\n",
       "      <td>2653.000000</td>\n",
       "      <td>2.653000e+03</td>\n",
       "      <td>2653.000000</td>\n",
       "      <td>2653.000000</td>\n",
       "      <td>2653.000000</td>\n",
       "      <td>2653.000000</td>\n",
       "    </tr>\n",
       "    <tr>\n",
       "      <th>mean</th>\n",
       "      <td>49.278815</td>\n",
       "      <td>2.843954e+07</td>\n",
       "      <td>49.254549</td>\n",
       "      <td>49.740520</td>\n",
       "      <td>48.755931</td>\n",
       "      <td>0.073177</td>\n",
       "    </tr>\n",
       "    <tr>\n",
       "      <th>std</th>\n",
       "      <td>21.092619</td>\n",
       "      <td>1.322686e+07</td>\n",
       "      <td>21.096481</td>\n",
       "      <td>21.271111</td>\n",
       "      <td>20.883635</td>\n",
       "      <td>0.529867</td>\n",
       "    </tr>\n",
       "    <tr>\n",
       "      <th>min</th>\n",
       "      <td>6.790000</td>\n",
       "      <td>5.720538e+06</td>\n",
       "      <td>6.820000</td>\n",
       "      <td>6.840000</td>\n",
       "      <td>6.610000</td>\n",
       "      <td>-1.244000</td>\n",
       "    </tr>\n",
       "    <tr>\n",
       "      <th>25%</th>\n",
       "      <td>34.500000</td>\n",
       "      <td>1.816774e+07</td>\n",
       "      <td>34.450000</td>\n",
       "      <td>34.730000</td>\n",
       "      <td>34.230000</td>\n",
       "      <td>-0.252000</td>\n",
       "    </tr>\n",
       "    <tr>\n",
       "      <th>50%</th>\n",
       "      <td>47.580000</td>\n",
       "      <td>2.413825e+07</td>\n",
       "      <td>47.490000</td>\n",
       "      <td>47.950000</td>\n",
       "      <td>47.120000</td>\n",
       "      <td>0.042000</td>\n",
       "    </tr>\n",
       "    <tr>\n",
       "      <th>75%</th>\n",
       "      <td>62.662000</td>\n",
       "      <td>3.659612e+07</td>\n",
       "      <td>62.700000</td>\n",
       "      <td>63.282000</td>\n",
       "      <td>62.040000</td>\n",
       "      <td>0.390000</td>\n",
       "    </tr>\n",
       "    <tr>\n",
       "      <th>max</th>\n",
       "      <td>103.070000</td>\n",
       "      <td>6.469864e+07</td>\n",
       "      <td>103.190000</td>\n",
       "      <td>103.970000</td>\n",
       "      <td>102.000000</td>\n",
       "      <td>1.378000</td>\n",
       "    </tr>\n",
       "  </tbody>\n",
       "</table>\n",
       "</div>"
      ],
      "text/plain": [
       "        Close/Last        Volume  ...          Low  New Closing Price\n",
       "count  2653.000000  2.653000e+03  ...  2653.000000        2653.000000\n",
       "mean     49.278815  2.843954e+07  ...    48.755931           0.073177\n",
       "std      21.092619  1.322686e+07  ...    20.883635           0.529867\n",
       "min       6.790000  5.720538e+06  ...     6.610000          -1.244000\n",
       "25%      34.500000  1.816774e+07  ...    34.230000          -0.252000\n",
       "50%      47.580000  2.413825e+07  ...    47.120000           0.042000\n",
       "75%      62.662000  3.659612e+07  ...    62.040000           0.390000\n",
       "max     103.070000  6.469864e+07  ...   102.000000           1.378000\n",
       "\n",
       "[8 rows x 6 columns]"
      ]
     },
     "execution_count": 72,
     "metadata": {},
     "output_type": "execute_result"
    }
   ],
   "source": [
    "df.describe()"
   ]
  },
  {
   "cell_type": "markdown",
   "metadata": {
    "id": "p41ZHCPjnrTi"
   },
   "source": [
    "# Replacing the 0 value in New Closing Price Column with mean"
   ]
  },
  {
   "cell_type": "code",
   "execution_count": 73,
   "metadata": {
    "id": "kYR5uWSi8WK7"
   },
   "outputs": [],
   "source": [
    "imputer = SimpleImputer(missing_values=0.0,strategy = \"mean\")\n",
    "df[\"New Closing Price\"] =imputer.fit_transform(df[[\"New Closing Price\"]])"
   ]
  },
  {
   "cell_type": "markdown",
   "metadata": {
    "id": "Ua6DIE-zny1Z"
   },
   "source": [
    "#Adding the Target Variable"
   ]
  },
  {
   "cell_type": "code",
   "execution_count": 74,
   "metadata": {
    "id": "njlLFtCpSM95"
   },
   "outputs": [],
   "source": [
    "Profit_loss = []\n",
    "for i in range(len(df)):\n",
    "  if df[\"New Closing Price\"][i] >0: # 1 for Profit 0 for loss\n",
    "    Profit_loss.append(1) \n",
    "  else:\n",
    "    Profit_loss.append(0)\n",
    "df[\"Profit/Loss\"] = Profit_loss"
   ]
  },
  {
   "cell_type": "code",
   "execution_count": 75,
   "metadata": {
    "colab": {
     "base_uri": "https://localhost:8080/",
     "height": 204
    },
    "id": "yi2r8EgjSbxb",
    "outputId": "3bf000ab-a8e9-44e3-f012-69290a01ffdf"
   },
   "outputs": [
    {
     "data": {
      "text/html": [
       "<div>\n",
       "<style scoped>\n",
       "    .dataframe tbody tr th:only-of-type {\n",
       "        vertical-align: middle;\n",
       "    }\n",
       "\n",
       "    .dataframe tbody tr th {\n",
       "        vertical-align: top;\n",
       "    }\n",
       "\n",
       "    .dataframe thead th {\n",
       "        text-align: right;\n",
       "    }\n",
       "</style>\n",
       "<table border=\"1\" class=\"dataframe\">\n",
       "  <thead>\n",
       "    <tr style=\"text-align: right;\">\n",
       "      <th></th>\n",
       "      <th>Close/Last</th>\n",
       "      <th>Volume</th>\n",
       "      <th>Open</th>\n",
       "      <th>High</th>\n",
       "      <th>Low</th>\n",
       "      <th>New Closing Price</th>\n",
       "      <th>Profit/Loss</th>\n",
       "    </tr>\n",
       "  </thead>\n",
       "  <tbody>\n",
       "    <tr>\n",
       "      <th>0</th>\n",
       "      <td>36.29</td>\n",
       "      <td>32739565</td>\n",
       "      <td>37.60</td>\n",
       "      <td>37.65</td>\n",
       "      <td>35.638</td>\n",
       "      <td>0.074127</td>\n",
       "      <td>1</td>\n",
       "    </tr>\n",
       "    <tr>\n",
       "      <th>1</th>\n",
       "      <td>10.86</td>\n",
       "      <td>48842780</td>\n",
       "      <td>10.68</td>\n",
       "      <td>10.93</td>\n",
       "      <td>10.640</td>\n",
       "      <td>0.310000</td>\n",
       "      <td>1</td>\n",
       "    </tr>\n",
       "    <tr>\n",
       "      <th>2</th>\n",
       "      <td>10.55</td>\n",
       "      <td>46878230</td>\n",
       "      <td>10.43</td>\n",
       "      <td>10.74</td>\n",
       "      <td>10.270</td>\n",
       "      <td>0.010000</td>\n",
       "      <td>1</td>\n",
       "    </tr>\n",
       "    <tr>\n",
       "      <th>3</th>\n",
       "      <td>10.54</td>\n",
       "      <td>46660430</td>\n",
       "      <td>10.75</td>\n",
       "      <td>10.80</td>\n",
       "      <td>10.400</td>\n",
       "      <td>-0.140000</td>\n",
       "      <td>0</td>\n",
       "    </tr>\n",
       "    <tr>\n",
       "      <th>4</th>\n",
       "      <td>10.68</td>\n",
       "      <td>63255660</td>\n",
       "      <td>10.40</td>\n",
       "      <td>10.93</td>\n",
       "      <td>10.380</td>\n",
       "      <td>0.340000</td>\n",
       "      <td>1</td>\n",
       "    </tr>\n",
       "  </tbody>\n",
       "</table>\n",
       "</div>"
      ],
      "text/plain": [
       "   Close/Last    Volume   Open   High     Low  New Closing Price  Profit/Loss\n",
       "0       36.29  32739565  37.60  37.65  35.638           0.074127            1\n",
       "1       10.86  48842780  10.68  10.93  10.640           0.310000            1\n",
       "2       10.55  46878230  10.43  10.74  10.270           0.010000            1\n",
       "3       10.54  46660430  10.75  10.80  10.400          -0.140000            0\n",
       "4       10.68  63255660  10.40  10.93  10.380           0.340000            1"
      ]
     },
     "execution_count": 75,
     "metadata": {},
     "output_type": "execute_result"
    }
   ],
   "source": [
    "df.head()"
   ]
  },
  {
   "cell_type": "markdown",
   "metadata": {
    "id": "tFl7BqKYoR3L"
   },
   "source": [
    "# Separating the Independant & Dependant Variable"
   ]
  },
  {
   "cell_type": "code",
   "execution_count": 76,
   "metadata": {
    "id": "J1IMQ8qx7LmD"
   },
   "outputs": [],
   "source": [
    "Input = df.drop(\"Profit/Loss\",axis = 1)\n",
    "Output = df[\"Profit/Loss\"]"
   ]
  },
  {
   "cell_type": "markdown",
   "metadata": {
    "id": "e2QL_81fobOB"
   },
   "source": [
    "# Count of Profit & Loss"
   ]
  },
  {
   "cell_type": "code",
   "execution_count": 77,
   "metadata": {
    "colab": {
     "base_uri": "https://localhost:8080/",
     "height": 309
    },
    "id": "14AaWYsRkph_",
    "outputId": "6f768325-8d4d-4752-b6e0-51236b9dac95"
   },
   "outputs": [
    {
     "data": {
      "text/plain": [
       "[]"
      ]
     },
     "execution_count": 77,
     "metadata": {},
     "output_type": "execute_result"
    },
    {
     "data": {
      "image/png": "[encoded data removed]",
      "text/plain": [
       "<Figure size 432x288 with 1 Axes>"
      ]
     },
     "metadata": {
      "needs_background": "light"
     },
     "output_type": "display_data"
    }
   ],
   "source": [
    "Output.value_counts().plot(kind = \"bar\")\n",
    "plt.xlabel(\"Values\")\n",
    "plt.ylabel(\"frequency\")\n",
    "plt.title(\"Count of Profit & Loss\")\n",
    "plt.plot()"
   ]
  },
  {
   "cell_type": "markdown",
   "metadata": {
    "id": "2DBHE_LRojJa"
   },
   "source": [
    "#Normalizing the data"
   ]
  },
  {
   "cell_type": "code",
   "execution_count": 78,
   "metadata": {
    "colab": {
     "base_uri": "https://localhost:8080/",
     "height": 204
    },
    "id": "TWmvyHAxg1a6",
    "outputId": "6b51ee1f-6c09-4ab5-c0e4-ccb044c47ca7"
   },
   "outputs": [
    {
     "data": {
      "text/html": [
       "<div>\n",
       "<style scoped>\n",
       "    .dataframe tbody tr th:only-of-type {\n",
       "        vertical-align: middle;\n",
       "    }\n",
       "\n",
       "    .dataframe tbody tr th {\n",
       "        vertical-align: top;\n",
       "    }\n",
       "\n",
       "    .dataframe thead th {\n",
       "        text-align: right;\n",
       "    }\n",
       "</style>\n",
       "<table border=\"1\" class=\"dataframe\">\n",
       "  <thead>\n",
       "    <tr style=\"text-align: right;\">\n",
       "      <th></th>\n",
       "      <th>Close/Last</th>\n",
       "      <th>Volume</th>\n",
       "      <th>Open</th>\n",
       "      <th>High</th>\n",
       "      <th>Low</th>\n",
       "      <th>New Closing Price</th>\n",
       "    </tr>\n",
       "  </thead>\n",
       "  <tbody>\n",
       "    <tr>\n",
       "      <th>0</th>\n",
       "      <td>0.306398</td>\n",
       "      <td>0.458120</td>\n",
       "      <td>0.319394</td>\n",
       "      <td>0.317204</td>\n",
       "      <td>0.304309</td>\n",
       "      <td>0.502718</td>\n",
       "    </tr>\n",
       "    <tr>\n",
       "      <th>1</th>\n",
       "      <td>0.042273</td>\n",
       "      <td>0.731157</td>\n",
       "      <td>0.040054</td>\n",
       "      <td>0.042109</td>\n",
       "      <td>0.042248</td>\n",
       "      <td>0.592677</td>\n",
       "    </tr>\n",
       "    <tr>\n",
       "      <th>2</th>\n",
       "      <td>0.039053</td>\n",
       "      <td>0.697847</td>\n",
       "      <td>0.037460</td>\n",
       "      <td>0.040152</td>\n",
       "      <td>0.038369</td>\n",
       "      <td>0.478261</td>\n",
       "    </tr>\n",
       "    <tr>\n",
       "      <th>3</th>\n",
       "      <td>0.038949</td>\n",
       "      <td>0.694154</td>\n",
       "      <td>0.040780</td>\n",
       "      <td>0.040770</td>\n",
       "      <td>0.039732</td>\n",
       "      <td>0.421053</td>\n",
       "    </tr>\n",
       "    <tr>\n",
       "      <th>4</th>\n",
       "      <td>0.040403</td>\n",
       "      <td>0.975534</td>\n",
       "      <td>0.037148</td>\n",
       "      <td>0.042109</td>\n",
       "      <td>0.039522</td>\n",
       "      <td>0.604119</td>\n",
       "    </tr>\n",
       "  </tbody>\n",
       "</table>\n",
       "</div>"
      ],
      "text/plain": [
       "   Close/Last    Volume      Open      High       Low  New Closing Price\n",
       "0    0.306398  0.458120  0.319394  0.317204  0.304309           0.502718\n",
       "1    0.042273  0.731157  0.040054  0.042109  0.042248           0.592677\n",
       "2    0.039053  0.697847  0.037460  0.040152  0.038369           0.478261\n",
       "3    0.038949  0.694154  0.040780  0.040770  0.039732           0.421053\n",
       "4    0.040403  0.975534  0.037148  0.042109  0.039522           0.604119"
      ]
     },
     "execution_count": 78,
     "metadata": {},
     "output_type": "execute_result"
    }
   ],
   "source": [
    "inp_col = Input.columns\n",
    "minmax = MinMaxScaler()\n",
    "Input = minmax.fit_transform(Input)\n",
    "Input = pd.DataFrame(Input,columns = inp_col)\n",
    "Input.head()"
   ]
  },
  {
   "cell_type": "markdown",
   "metadata": {
    "id": "KtpnZZCqonxb"
   },
   "source": [
    "#Splitting the data into train and test"
   ]
  },
  {
   "cell_type": "code",
   "execution_count": 79,
   "metadata": {
    "id": "n4fr9MDy_erj"
   },
   "outputs": [],
   "source": [
    "X_train,X_test,Y_train,Y_test = train_test_split(Input,Output,test_size = 0.3, random_state = 42)"
   ]
  },
  {
   "cell_type": "markdown",
   "metadata": {
    "id": "LXeVN9yjoukM"
   },
   "source": [
    "#Using the Logistic Regression Model"
   ]
  },
  {
   "cell_type": "code",
   "execution_count": 80,
   "metadata": {
    "id": "heDenlAu_fn_"
   },
   "outputs": [],
   "source": [
    "model = LogisticRegression()\n",
    "model.fit(X_train,Y_train)\n",
    "model_prediction = model.predict(X_test)"
   ]
  },
  {
   "cell_type": "markdown",
   "metadata": {
    "id": "Z-45PoDNpqRY"
   },
   "source": [
    "#Test Accuracy"
   ]
  },
  {
   "cell_type": "code",
   "execution_count": 81,
   "metadata": {
    "colab": {
     "base_uri": "https://localhost:8080/"
    },
    "id": "2S_83UNwAGts",
    "outputId": "f83bc3b7-f6b1-40d1-ca40-c87e4ea2aa72"
   },
   "outputs": [
    {
     "data": {
      "text/plain": [
       "0.9886934673366834"
      ]
     },
     "execution_count": 81,
     "metadata": {},
     "output_type": "execute_result"
    }
   ],
   "source": [
    "accuracy_score(Y_test,model_prediction)"
   ]
  },
  {
   "cell_type": "markdown",
   "metadata": {
    "id": "wCnxs9ndcsj7"
   },
   "source": [
    "# Classification Report"
   ]
  },
  {
   "cell_type": "code",
   "execution_count": 82,
   "metadata": {
    "colab": {
     "base_uri": "https://localhost:8080/"
    },
    "id": "EXIOdQzCcsuy",
    "outputId": "4ff73723-74aa-47a8-e64a-2fa307634882"
   },
   "outputs": [
    {
     "name": "stdout",
     "output_type": "stream",
     "text": [
      "              precision    recall  f1-score   support\n",
      "\n",
      "           0       1.00      0.97      0.99       355\n",
      "           1       0.98      1.00      0.99       441\n",
      "\n",
      "    accuracy                           0.99       796\n",
      "   macro avg       0.99      0.99      0.99       796\n",
      "weighted avg       0.99      0.99      0.99       796\n",
      "\n"
     ]
    }
   ],
   "source": [
    "print(classification_report(Y_test,model_prediction))"
   ]
  },
  {
   "cell_type": "markdown",
   "metadata": {
    "id": "nEcvA-KCpZJw"
   },
   "source": [
    "# Actual Values and Predicted Values"
   ]
  },
  {
   "cell_type": "code",
   "execution_count": 83,
   "metadata": {
    "colab": {
     "base_uri": "https://localhost:8080/",
     "height": 204
    },
    "id": "RRgbsCshpFEH",
    "outputId": "fa2ec5c4-d4ff-4433-d476-6d9361d4bce9"
   },
   "outputs": [
    {
     "data": {
      "text/html": [
       "<div>\n",
       "<style scoped>\n",
       "    .dataframe tbody tr th:only-of-type {\n",
       "        vertical-align: middle;\n",
       "    }\n",
       "\n",
       "    .dataframe tbody tr th {\n",
       "        vertical-align: top;\n",
       "    }\n",
       "\n",
       "    .dataframe thead th {\n",
       "        text-align: right;\n",
       "    }\n",
       "</style>\n",
       "<table border=\"1\" class=\"dataframe\">\n",
       "  <thead>\n",
       "    <tr style=\"text-align: right;\">\n",
       "      <th></th>\n",
       "      <th>Actual Value</th>\n",
       "      <th>Predicted Value</th>\n",
       "    </tr>\n",
       "  </thead>\n",
       "  <tbody>\n",
       "    <tr>\n",
       "      <th>1857</th>\n",
       "      <td>0</td>\n",
       "      <td>0</td>\n",
       "    </tr>\n",
       "    <tr>\n",
       "      <th>2524</th>\n",
       "      <td>1</td>\n",
       "      <td>1</td>\n",
       "    </tr>\n",
       "    <tr>\n",
       "      <th>742</th>\n",
       "      <td>0</td>\n",
       "      <td>0</td>\n",
       "    </tr>\n",
       "    <tr>\n",
       "      <th>2512</th>\n",
       "      <td>1</td>\n",
       "      <td>1</td>\n",
       "    </tr>\n",
       "    <tr>\n",
       "      <th>902</th>\n",
       "      <td>0</td>\n",
       "      <td>0</td>\n",
       "    </tr>\n",
       "  </tbody>\n",
       "</table>\n",
       "</div>"
      ],
      "text/plain": [
       "      Actual Value  Predicted Value\n",
       "1857             0                0\n",
       "2524             1                1\n",
       "742              0                0\n",
       "2512             1                1\n",
       "902              0                0"
      ]
     },
     "execution_count": 83,
     "metadata": {},
     "output_type": "execute_result"
    }
   ],
   "source": [
    "pred = pd.DataFrame({\"Actual Value\":Y_test,\"Predicted Value\":model_prediction})\n",
    "pred.tail()"
   ]
  },
  {
   "cell_type": "markdown",
   "metadata": {
    "id": "yahdTYnwpi9Z"
   },
   "source": [
    "#Confusion Matrix "
   ]
  },
  {
   "cell_type": "code",
   "execution_count": 84,
   "metadata": {
    "colab": {
     "base_uri": "https://localhost:8080/"
    },
    "id": "7kTyWsG5hXyQ",
    "outputId": "e5350e62-f840-457c-a17e-c78a068dcc07"
   },
   "outputs": [
    {
     "data": {
      "text/plain": [
       "array([[346,   9],\n",
       "       [  0, 441]])"
      ]
     },
     "execution_count": 84,
     "metadata": {},
     "output_type": "execute_result"
    }
   ],
   "source": [
    "conf_matrix = confusion_matrix(Y_test,model_prediction)\n",
    "conf_matrix"
   ]
  },
  {
   "cell_type": "code",
   "execution_count": 85,
   "metadata": {
    "colab": {
     "base_uri": "https://localhost:8080/",
     "height": 312
    },
    "id": "bp1H2Iu-jZLI",
    "outputId": "c8bbbb33-4425-4b5e-f4d7-2d834984d31c"
   },
   "outputs": [
    {
     "data": {
      "text/plain": [
       "[]"
      ]
     },
     "execution_count": 85,
     "metadata": {},
     "output_type": "execute_result"
    },
    {
     "data": {
      "image/png": "[encoded data removed]",
      "text/plain": [
       "<Figure size 432x288 with 2 Axes>"
      ]
     },
     "metadata": {
      "needs_background": "light"
     },
     "output_type": "display_data"
    }
   ],
   "source": [
    "sns.heatmap(conf_matrix,annot = True,fmt = \".3g\")\n",
    "plt.ylabel(\"True Label\")\n",
    "plt.xlabel(\"Predicted Label\")\n",
    "plt.title(\"Confusion Matrix\")\n",
    "plt.plot()"
   ]
  },
  {
   "cell_type": "markdown",
   "metadata": {
    "id": "V7d9XfO7WYTS"
   },
   "source": [
    "#Roc Curve"
   ]
  },
  {
   "cell_type": "code",
   "execution_count": 86,
   "metadata": {
    "colab": {
     "base_uri": "https://localhost:8080/",
     "height": 295
    },
    "id": "Fr2Ah-V_WZ9X",
    "outputId": "68f21e49-3b85-446a-9d63-dea52ce50603"
   },
   "outputs": [
    {
     "data": {
      "image/png": "[encoded data removed]",
      "text/plain": [
       "<Figure size 432x288 with 1 Axes>"
      ]
     },
     "metadata": {
      "needs_background": "light"
     },
     "output_type": "display_data"
    }
   ],
   "source": [
    "fpr,tpr, threshold = roc_curve(Y_test,model_prediction)\n",
    "auc_model = auc(fpr,tpr)\n",
    "plt.plot(fpr,tpr,linestyle = \"-\")\n",
    "plt.xlabel(\"False Positive\")\n",
    "plt.ylabel(\"True Positive\")\n",
    "plt.title(\"Roc Curve\")\n",
    "plt.show()"
   ]
  },
  {
   "cell_type": "markdown",
   "metadata": {
    "id": "uwJYwgWIqYri"
   },
   "source": [
    "#Hyperparameter tuning using Grid Search CV\n"
   ]
  },
  {
   "cell_type": "code",
   "execution_count": 87,
   "metadata": {
    "id": "14r97F8tTfuO"
   },
   "outputs": [],
   "source": [
    "paramters = {\n",
    "    \"penalty\":[\"l2\"],\n",
    "    \"max_iter\":[100,200,300,400,500],\n",
    "    \"solver\":[\"newton-cg\",\"lbfgs\"],\n",
    "    \"C\":[0.001,.009,0.01,.09,1,5,10,25]\n",
    "    }"
   ]
  },
  {
   "cell_type": "code",
   "execution_count": 88,
   "metadata": {
    "colab": {
     "base_uri": "https://localhost:8080/"
    },
    "id": "h-tl3Pdvj0vP",
    "outputId": "9c37a6c2-d033-4ec6-d463-58cc4bc8a476"
   },
   "outputs": [
    {
     "name": "stdout",
     "output_type": "stream",
     "text": [
      "{'C': 25, 'max_iter': 100, 'penalty': 'l2', 'solver': 'newton-cg'}\n",
      "0.9983841984754948\n"
     ]
    }
   ],
   "source": [
    "gscv = GridSearchCV(model,paramters)\n",
    "gscv.fit(X_train,Y_train)\n",
    "gscv_predictions = gscv.predict(X_test)\n",
    "print(gscv.best_params_)\n",
    "print(gscv.best_score_)"
   ]
  },
  {
   "cell_type": "markdown",
   "metadata": {
    "id": "adnm01p3b8VR"
   },
   "source": [
    "# Test Accuracy"
   ]
  },
  {
   "cell_type": "code",
   "execution_count": 89,
   "metadata": {
    "colab": {
     "base_uri": "https://localhost:8080/"
    },
    "id": "pXiadigtb-7O",
    "outputId": "2464da44-8692-4fd9-a806-3cedf24ef6af"
   },
   "outputs": [
    {
     "data": {
      "text/plain": [
       "1.0"
      ]
     },
     "execution_count": 89,
     "metadata": {},
     "output_type": "execute_result"
    }
   ],
   "source": [
    "accuracy_score(Y_test,gscv_predictions)"
   ]
  },
  {
   "cell_type": "markdown",
   "metadata": {
    "id": "JMfK8mfMc-G7"
   },
   "source": [
    "# Classification Report"
   ]
  },
  {
   "cell_type": "code",
   "execution_count": 90,
   "metadata": {
    "colab": {
     "base_uri": "https://localhost:8080/"
    },
    "id": "26Sp8iIZdAUD",
    "outputId": "e58e20c5-6421-4d8f-b36b-efd58f1fce10"
   },
   "outputs": [
    {
     "name": "stdout",
     "output_type": "stream",
     "text": [
      "              precision    recall  f1-score   support\n",
      "\n",
      "           0       1.00      1.00      1.00       355\n",
      "           1       1.00      1.00      1.00       441\n",
      "\n",
      "    accuracy                           1.00       796\n",
      "   macro avg       1.00      1.00      1.00       796\n",
      "weighted avg       1.00      1.00      1.00       796\n",
      "\n"
     ]
    }
   ],
   "source": [
    "print(classification_report(Y_test,gscv_predictions))"
   ]
  },
  {
   "cell_type": "markdown",
   "metadata": {
    "id": "CwLOqsneVGo5"
   },
   "source": [
    "#Confusion Matrix of Grid Search CV"
   ]
  },
  {
   "cell_type": "code",
   "execution_count": 91,
   "metadata": {
    "colab": {
     "base_uri": "https://localhost:8080/"
    },
    "id": "TJpAeszYU25i",
    "outputId": "a97b73d8-dcd0-4992-8a74-baba8a2846ab"
   },
   "outputs": [
    {
     "data": {
      "text/plain": [
       "array([[355,   0],\n",
       "       [  0, 441]])"
      ]
     },
     "execution_count": 91,
     "metadata": {},
     "output_type": "execute_result"
    }
   ],
   "source": [
    "conf_matrix = confusion_matrix(Y_test,gscv_predictions)\n",
    "conf_matrix"
   ]
  },
  {
   "cell_type": "code",
   "execution_count": 92,
   "metadata": {
    "colab": {
     "base_uri": "https://localhost:8080/",
     "height": 312
    },
    "id": "6KurB_sQVDyj",
    "outputId": "211f4e80-6c17-42ee-8142-71331e6be3d7"
   },
   "outputs": [
    {
     "data": {
      "text/plain": [
       "[]"
      ]
     },
     "execution_count": 92,
     "metadata": {},
     "output_type": "execute_result"
    },
    {
     "data": {
      "image/png": "[encoded data removed]",
      "text/plain": [
       "<Figure size 432x288 with 2 Axes>"
      ]
     },
     "metadata": {
      "needs_background": "light"
     },
     "output_type": "display_data"
    }
   ],
   "source": [
    "sns.heatmap(conf_matrix,annot = True,fmt = \".3g\")\n",
    "plt.ylabel(\"True Label\")\n",
    "plt.xlabel(\"Predicted Label\")\n",
    "plt.title(\"Confusion Matrix\")\n",
    "plt.plot()\n"
   ]
  },
  {
   "cell_type": "markdown",
   "metadata": {
    "id": "MVAJuHYhX9E8"
   },
   "source": [
    "#ROC Curve"
   ]
  },
  {
   "cell_type": "code",
   "execution_count": 93,
   "metadata": {
    "colab": {
     "base_uri": "https://localhost:8080/",
     "height": 295
    },
    "id": "SHLXh1kaX_rA",
    "outputId": "0b86caac-16be-4a6f-938e-2d9170064853"
   },
   "outputs": [
    {
     "data": {
      "image/png": "[encoded data removed]",
      "text/plain": [
       "<Figure size 432x288 with 1 Axes>"
      ]
     },
     "metadata": {
      "needs_background": "light"
     },
     "output_type": "display_data"
    }
   ],
   "source": [
    "fpr,tpr, threshold = roc_curve(Y_test,gscv_predictions)\n",
    "auc_model = auc(fpr,tpr)\n",
    "plt.plot(fpr,tpr,linestyle = \"-\")\n",
    "plt.xlabel(\"False Positive\")\n",
    "plt.ylabel(\"True Positive\")\n",
    "plt.title(\"Roc Curve\")\n",
    "plt.show()"
   ]
  },
  {
   "cell_type": "markdown",
   "metadata": {
    "id": "qmGEvrDuwwTM"
   },
   "source": [
    "#Hyperparameter tuning using Random Search CV\n"
   ]
  },
  {
   "cell_type": "code",
   "execution_count": 94,
   "metadata": {
    "colab": {
     "base_uri": "https://localhost:8080/"
    },
    "id": "sqYCaVkQtoxv",
    "outputId": "a3b0881c-f455-4d7c-8e99-bacefd26d505"
   },
   "outputs": [
    {
     "name": "stdout",
     "output_type": "stream",
     "text": [
      "{'solver': 'newton-cg', 'penalty': 'l2', 'max_iter': 400, 'C': 5}\n",
      "0.9946164101672318\n"
     ]
    }
   ],
   "source": [
    "rscv = RandomizedSearchCV(model,paramters)\n",
    "rscv.fit(X_train,Y_train)\n",
    "rscv_predictions = gscv.predict(X_test)\n",
    "print(rscv.best_params_)\n",
    "print(rscv.best_score_)\n"
   ]
  },
  {
   "cell_type": "markdown",
   "metadata": {
    "id": "chUI7rF3cFzf"
   },
   "source": [
    "# Test Accuracy"
   ]
  },
  {
   "cell_type": "code",
   "execution_count": 95,
   "metadata": {
    "colab": {
     "base_uri": "https://localhost:8080/"
    },
    "id": "QT9V7qbRcF_z",
    "outputId": "05f49bd6-9203-4d62-d167-08330c636d09"
   },
   "outputs": [
    {
     "data": {
      "text/plain": [
       "1.0"
      ]
     },
     "execution_count": 95,
     "metadata": {},
     "output_type": "execute_result"
    }
   ],
   "source": [
    "accuracy_score(Y_test,rscv_predictions)"
   ]
  },
  {
   "cell_type": "markdown",
   "metadata": {
    "id": "rG8y4HfzdDws"
   },
   "source": [
    "#Classification Report"
   ]
  },
  {
   "cell_type": "code",
   "execution_count": 96,
   "metadata": {
    "colab": {
     "base_uri": "https://localhost:8080/"
    },
    "id": "54kt9HccdFtS",
    "outputId": "5bdd5e60-32b3-455b-9bf1-e7006c664cf3"
   },
   "outputs": [
    {
     "name": "stdout",
     "output_type": "stream",
     "text": [
      "              precision    recall  f1-score   support\n",
      "\n",
      "           0       1.00      1.00      1.00       355\n",
      "           1       1.00      1.00      1.00       441\n",
      "\n",
      "    accuracy                           1.00       796\n",
      "   macro avg       1.00      1.00      1.00       796\n",
      "weighted avg       1.00      1.00      1.00       796\n",
      "\n"
     ]
    }
   ],
   "source": [
    "print(classification_report(Y_test,rscv_predictions))"
   ]
  },
  {
   "cell_type": "markdown",
   "metadata": {
    "id": "D4li00-TVb9O"
   },
   "source": [
    "#Confusion Matrix of Random Search CV"
   ]
  },
  {
   "cell_type": "code",
   "execution_count": 97,
   "metadata": {
    "colab": {
     "base_uri": "https://localhost:8080/"
    },
    "id": "9-B9HjZSVcJl",
    "outputId": "8435cef8-bfe9-45c8-bfdc-293324984dba"
   },
   "outputs": [
    {
     "data": {
      "text/plain": [
       "array([[355,   0],\n",
       "       [  0, 441]])"
      ]
     },
     "execution_count": 97,
     "metadata": {},
     "output_type": "execute_result"
    }
   ],
   "source": [
    "conf_matrix = confusion_matrix(Y_test,rscv_predictions)\n",
    "conf_matrix"
   ]
  },
  {
   "cell_type": "code",
   "execution_count": 98,
   "metadata": {
    "colab": {
     "base_uri": "https://localhost:8080/",
     "height": 312
    },
    "id": "P37ksikAVcXI",
    "outputId": "540e51d1-c09e-46b4-83ac-107689f68e2c"
   },
   "outputs": [
    {
     "data": {
      "text/plain": [
       "[]"
      ]
     },
     "execution_count": 98,
     "metadata": {},
     "output_type": "execute_result"
    },
    {
     "data": {
      "image/png": "[encoded data removed]",
      "text/plain": [
       "<Figure size 432x288 with 2 Axes>"
      ]
     },
     "metadata": {
      "needs_background": "light"
     },
     "output_type": "display_data"
    }
   ],
   "source": [
    "sns.heatmap(conf_matrix,annot = True,fmt = \".3g\")\n",
    "plt.ylabel(\"True Label\")\n",
    "plt.xlabel(\"Predicted Label\")\n",
    "plt.title(\"Confusion Matrix\")\n",
    "plt.plot()\n"
   ]
  },
  {
   "cell_type": "markdown",
   "metadata": {
    "id": "34WpR0kMYWaR"
   },
   "source": [
    "#ROC Curve"
   ]
  },
  {
   "cell_type": "code",
   "execution_count": 99,
   "metadata": {
    "colab": {
     "base_uri": "https://localhost:8080/",
     "height": 295
    },
    "id": "kNe1OVrfYYjY",
    "outputId": "4c0b6063-f25a-43b8-cedc-c166f33a2c4f"
   },
   "outputs": [
    {
     "data": {
      "image/png": "[encoded data removed]",
      "text/plain": [
       "<Figure size 432x288 with 1 Axes>"
      ]
     },
     "metadata": {
      "needs_background": "light"
     },
     "output_type": "display_data"
    }
   ],
   "source": [
    "fpr,tpr, threshold = roc_curve(Y_test,rscv_predictions)\n",
    "auc_model = auc(fpr,tpr)\n",
    "plt.plot(fpr,tpr,linestyle = \"-\")\n",
    "plt.xlabel(\"False Positive\")\n",
    "plt.ylabel(\"True Positive\")\n",
    "plt.title(\"Roc Curve\")\n",
    "plt.show()"
   ]
  },
  {
   "cell_type": "markdown",
   "metadata": {
    "id": "hM1tBTsuDf5F"
   },
   "source": [
    "#Model with best  hyperparameters"
   ]
  },
  {
   "cell_type": "code",
   "execution_count": 100,
   "metadata": {
    "id": "xhAAPi0aDiPO"
   },
   "outputs": [],
   "source": [
    "lr = LogisticRegression(C = 25,max_iter=100,penalty=\"l2\" ,solver = \"newton-cg\" )\n",
    "lr.fit(X_train,Y_train)\n",
    "lr_predictions = lr.predict(X_test)"
   ]
  },
  {
   "cell_type": "markdown",
   "metadata": {
    "id": "sc0qM3G1D4Y3"
   },
   "source": [
    "#Test Accuracy"
   ]
  },
  {
   "cell_type": "code",
   "execution_count": 101,
   "metadata": {
    "colab": {
     "base_uri": "https://localhost:8080/"
    },
    "id": "D9Fywtg9DjoZ",
    "outputId": "52e7a74b-49cb-4bce-a14b-4151c1741d75"
   },
   "outputs": [
    {
     "data": {
      "text/plain": [
       "1.0"
      ]
     },
     "execution_count": 101,
     "metadata": {},
     "output_type": "execute_result"
    }
   ],
   "source": [
    "accuracy_score(Y_test,lr_predictions)"
   ]
  },
  {
   "cell_type": "markdown",
   "metadata": {
    "id": "cQV2ffq9EkM_"
   },
   "source": [
    "#Classification Report"
   ]
  },
  {
   "cell_type": "code",
   "execution_count": 102,
   "metadata": {
    "colab": {
     "base_uri": "https://localhost:8080/"
    },
    "id": "d3HSMgAgEoqL",
    "outputId": "a0bb3943-bf85-4495-c58b-311ad60d91da"
   },
   "outputs": [
    {
     "name": "stdout",
     "output_type": "stream",
     "text": [
      "              precision    recall  f1-score   support\n",
      "\n",
      "           0       1.00      1.00      1.00       355\n",
      "           1       1.00      1.00      1.00       441\n",
      "\n",
      "    accuracy                           1.00       796\n",
      "   macro avg       1.00      1.00      1.00       796\n",
      "weighted avg       1.00      1.00      1.00       796\n",
      "\n"
     ]
    }
   ],
   "source": [
    "print(classification_report(Y_test,lr_predictions))"
   ]
  },
  {
   "cell_type": "markdown",
   "metadata": {
    "id": "FrCG-f8QEz4z"
   },
   "source": [
    "#Confusion matrix with best parameters"
   ]
  },
  {
   "cell_type": "code",
   "execution_count": 103,
   "metadata": {
    "colab": {
     "base_uri": "https://localhost:8080/"
    },
    "id": "P80bqvsDE4p7",
    "outputId": "b9209089-7606-4304-b061-ae1e35f6bf2c"
   },
   "outputs": [
    {
     "data": {
      "text/plain": [
       "array([[355,   0],\n",
       "       [  0, 441]])"
      ]
     },
     "execution_count": 103,
     "metadata": {},
     "output_type": "execute_result"
    }
   ],
   "source": [
    "conf_matrix = confusion_matrix(Y_test,lr_predictions)\n",
    "conf_matrix"
   ]
  },
  {
   "cell_type": "code",
   "execution_count": 104,
   "metadata": {
    "colab": {
     "base_uri": "https://localhost:8080/",
     "height": 312
    },
    "id": "X9tYgrwZE85f",
    "outputId": "09bbea28-cf4a-4f68-9703-4680f2df5a9a"
   },
   "outputs": [
    {
     "data": {
      "text/plain": [
       "[]"
      ]
     },
     "execution_count": 104,
     "metadata": {},
     "output_type": "execute_result"
    },
    {
     "data": {
      "image/png": "[encoded data removed]",
      "text/plain": [
       "<Figure size 432x288 with 2 Axes>"
      ]
     },
     "metadata": {
      "needs_background": "light"
     },
     "output_type": "display_data"
    }
   ],
   "source": [
    "sns.heatmap(conf_matrix,annot = True,fmt = \".3g\")\n",
    "plt.ylabel(\"True Label\")\n",
    "plt.xlabel(\"Predicted Label\")\n",
    "plt.title(\"Confusion Matrix\")\n",
    "plt.plot()\n"
   ]
  },
  {
   "cell_type": "markdown",
   "metadata": {
    "id": "14n_JjlnFA0K"
   },
   "source": [
    "#ROC Curve"
   ]
  },
  {
   "cell_type": "code",
   "execution_count": 105,
   "metadata": {
    "colab": {
     "base_uri": "https://localhost:8080/",
     "height": 295
    },
    "id": "CM5LUigCFCf4",
    "outputId": "ccd93a49-9789-4e72-e24a-edded5c9e5c7"
   },
   "outputs": [
    {
     "data": {
      "image/png": "[encoded data removed]",
      "text/plain": [
       "<Figure size 432x288 with 1 Axes>"
      ]
     },
     "metadata": {
      "needs_background": "light"
     },
     "output_type": "display_data"
    }
   ],
   "source": [
    "fpr,tpr, threshold = roc_curve(Y_test,lr_predictions)\n",
    "auc_model = auc(fpr,tpr)\n",
    "plt.plot(fpr,tpr,linestyle = \"-\")\n",
    "plt.xlabel(\"False Positive\")\n",
    "plt.ylabel(\"True Positive\")\n",
    "plt.title(\"Roc Curve\")\n",
    "plt.show()"
   ]
  },
  {
   "cell_type": "markdown",
   "metadata": {
    "id": "Mx-j5b3u31tU"
   },
   "source": [
    "#Feature Engineering"
   ]
  },
  {
   "cell_type": "code",
   "execution_count": 106,
   "metadata": {
    "colab": {
     "base_uri": "https://localhost:8080/"
    },
    "id": "jcyc0lH334Hu",
    "outputId": "71f6eda1-9d5d-4819-a268-a1d89df7f7a5"
   },
   "outputs": [
    {
     "data": {
      "text/plain": [
       "array([6.77451233e-04, 5.71753073e-04, 3.86652946e-04, 2.99946399e-04,\n",
       "       5.21973139e-04, 9.97542223e-01])"
      ]
     },
     "execution_count": 106,
     "metadata": {},
     "output_type": "execute_result"
    }
   ],
   "source": [
    "\n",
    "feature_select = ExtraTreesRegressor()\n",
    "feature_select.fit(X_train,Y_train) \n",
    "feature_select.feature_importances_"
   ]
  },
  {
   "cell_type": "code",
   "execution_count": 107,
   "metadata": {
    "colab": {
     "base_uri": "https://localhost:8080/",
     "height": 610
    },
    "id": "UU5kvkrR4NLV",
    "outputId": "e2ed1e33-0c15-4963-b06b-bc76219d4e36"
   },
   "outputs": [
    {
     "data": {
      "image/png": "[encoded data removed]",
      "text/plain": [
       "<Figure size 720x720 with 1 Axes>"
      ]
     },
     "metadata": {
      "needs_background": "light"
     },
     "output_type": "display_data"
    },
    {
     "data": {
      "application/vnd.google.colaboratory.intrinsic+json": {
       "type": "string"
      },
      "text/plain": [
       "'\\nTarget Variable is totally dependant on New Closing Price Column\\n'"
      ]
     },
     "execution_count": 107,
     "metadata": {},
     "output_type": "execute_result"
    }
   ],
   "source": [
    "plt.figure(figsize=(10,10))\n",
    "plt.bar(X_train.columns,feature_select.feature_importances_)\n",
    "plt.show()\n",
    "\n",
    "\"\"\"\n",
    "Target Variable is totally dependant on New Closing Price Column\n",
    "\"\"\""
   ]
  },
  {
   "cell_type": "code",
   "execution_count": 108,
   "metadata": {
    "id": "yPwewUT54ps1"
   },
   "outputs": [],
   "source": [
    "lr_with_fe = LogisticRegression(C = 25,max_iter=100,penalty=\"l2\" ,solver = \"newton-cg\" )\n",
    "lr_with_fe.fit(X_train[[\"New Closing Price\"]],Y_train)\n",
    "lr_predictions = lr_with_fe.predict(X_test[[\"New Closing Price\"]])"
   ]
  },
  {
   "cell_type": "markdown",
   "metadata": {
    "id": "fpv9gGFJ5JOm"
   },
   "source": [
    "#Test Accuracy"
   ]
  },
  {
   "cell_type": "code",
   "execution_count": 109,
   "metadata": {
    "colab": {
     "base_uri": "https://localhost:8080/"
    },
    "id": "DdcYL0GM40hx",
    "outputId": "b7651ecd-5cf2-46f3-d701-8a93c0d75d7b"
   },
   "outputs": [
    {
     "data": {
      "text/plain": [
       "1.0"
      ]
     },
     "execution_count": 109,
     "metadata": {},
     "output_type": "execute_result"
    }
   ],
   "source": [
    "accuracy_score(Y_test,lr_predictions)"
   ]
  },
  {
   "cell_type": "markdown",
   "metadata": {
    "id": "ERCTvZRO5LGl"
   },
   "source": [
    "#Classification Report"
   ]
  },
  {
   "cell_type": "code",
   "execution_count": 110,
   "metadata": {
    "colab": {
     "base_uri": "https://localhost:8080/"
    },
    "id": "IZSw0PDD5NmP",
    "outputId": "bad585ad-44a4-42fb-c75c-e5a575d69029"
   },
   "outputs": [
    {
     "name": "stdout",
     "output_type": "stream",
     "text": [
      "              precision    recall  f1-score   support\n",
      "\n",
      "           0       1.00      1.00      1.00       355\n",
      "           1       1.00      1.00      1.00       441\n",
      "\n",
      "    accuracy                           1.00       796\n",
      "   macro avg       1.00      1.00      1.00       796\n",
      "weighted avg       1.00      1.00      1.00       796\n",
      "\n"
     ]
    }
   ],
   "source": [
    "print(classification_report(Y_test,lr_predictions))"
   ]
  },
  {
   "cell_type": "markdown",
   "metadata": {
    "id": "Aa1Fbn1G5SL-"
   },
   "source": [
    "#Confusion Matrix"
   ]
  },
  {
   "cell_type": "code",
   "execution_count": 111,
   "metadata": {
    "colab": {
     "base_uri": "https://localhost:8080/"
    },
    "id": "-ZIcZWuu5VUC",
    "outputId": "34597ebb-0632-4045-a5c4-16dd37c93edd"
   },
   "outputs": [
    {
     "data": {
      "text/plain": [
       "array([[355,   0],\n",
       "       [  0, 441]])"
      ]
     },
     "execution_count": 111,
     "metadata": {},
     "output_type": "execute_result"
    }
   ],
   "source": [
    "conf_matrix = confusion_matrix(Y_test,lr_predictions)\n",
    "conf_matrix"
   ]
  },
  {
   "cell_type": "code",
   "execution_count": 112,
   "metadata": {
    "colab": {
     "base_uri": "https://localhost:8080/",
     "height": 312
    },
    "id": "eJKV4w0v5aJy",
    "outputId": "c92d37b6-1297-4c54-b7c3-86f2a82a1ad5"
   },
   "outputs": [
    {
     "data": {
      "text/plain": [
       "[]"
      ]
     },
     "execution_count": 112,
     "metadata": {},
     "output_type": "execute_result"
    },
    {
     "data": {
      "image/png": "[encoded data removed]",
      "text/plain": [
       "<Figure size 432x288 with 2 Axes>"
      ]
     },
     "metadata": {
      "needs_background": "light"
     },
     "output_type": "display_data"
    }
   ],
   "source": [
    "sns.heatmap(conf_matrix,annot = True,fmt = \".3g\")\n",
    "plt.ylabel(\"True Label\")\n",
    "plt.xlabel(\"Predicted Label\")\n",
    "plt.title(\"Confusion Matrix\")\n",
    "plt.plot()\n"
   ]
  },
  {
   "cell_type": "markdown",
   "metadata": {
    "id": "d_Q1-jGz5dzY"
   },
   "source": [
    "#ROC Curve"
   ]
  },
  {
   "cell_type": "code",
   "execution_count": 113,
   "metadata": {
    "colab": {
     "base_uri": "https://localhost:8080/",
     "height": 295
    },
    "id": "OhnwWqd35fuk",
    "outputId": "0066fb55-232d-471b-cd5f-9f690c9c0077"
   },
   "outputs": [
    {
     "data": {
      "image/png": "[encoded data removed]",
      "text/plain": [
       "<Figure size 432x288 with 1 Axes>"
      ]
     },
     "metadata": {
      "needs_background": "light"
     },
     "output_type": "display_data"
    }
   ],
   "source": [
    "fpr,tpr, threshold = roc_curve(Y_test,lr_predictions)\n",
    "auc_model = auc(fpr,tpr)\n",
    "plt.plot(fpr,tpr,linestyle = \"-\")\n",
    "plt.xlabel(\"False Positive\")\n",
    "plt.ylabel(\"True Positive\")\n",
    "plt.title(\"Roc Curve\")\n",
    "plt.show()"
   ]
  },
  {
   "cell_type": "markdown",
   "metadata": {
    "id": "UyequEUQYg6W"
   },
   "source": [
    "#Saving the Model"
   ]
  },
  {
   "cell_type": "code",
   "execution_count": null,
   "metadata": {
    "id": "RTcQEn7aVaxE"
   },
   "outputs": [],
   "source": [
    "pickle.dump(lr,open(\"lr.pkl\",\"wb\"))"
   ]
  }
 ],
 "metadata": {
  "colab": {
   "collapsed_sections": [],
   "name": "Modeling Part.ipynb",
   "provenance": []
  },
  "kernelspec": {
   "display_name": "Python 3 (ipykernel)",
   "language": "python",
   "name": "python3"
  },
  "language_info": {
   "codemirror_mode": {
    "name": "ipython",
    "version": 3
   },
   "file_extension": ".py",
   "mimetype": "text/x-python",
   "name": "python",
   "nbconvert_exporter": "python",
   "pygments_lexer": "ipython3",
   "version": "3.8.10"
  }
 },
 "nbformat": 4,
 "nbformat_minor": 1
}
